{
  "metadata": {
    "language_info": {
      "codemirror_mode": {
        "name": "javascript"
      },
      "file_extension": ".js",
      "mimetype": "text/javascript",
      "name": "javascript",
      "nbconvert_exporter": "javascript",
      "pygments_lexer": "javascript",
      "version": "es2017"
    },
    "kernelspec": {
      "name": "javascript",
      "display_name": "JavaScript (Web Worker)",
      "language": "javascript"
    }
  },
  "nbformat_minor": 4,
  "nbformat": 4,
  "cells": [
    {
      "cell_type": "markdown",
      "source": "Access Files in JupyterLite\n===========================\n\nList all the databases in the indexedDB. Note that the result is produced asynchronously so you should wait a second or so before running each cell.",
      "metadata": {}
    },
    {
      "cell_type": "code",
      "source": "var promise = indexedDB.databases();\npromise.then(function (result) {\n    console.log(JSON.stringify(result))\n});\n\nconsole.log(\"Databases:\");",
      "metadata": {
        "trusted": true
      },
      "execution_count": null,
      "outputs": []
    },
    {
      "cell_type": "markdown",
      "source": "Open the storage and call the callback() function with an [IDBDatabse](https://developer.mozilla.org/en-US/docs/Web/API/IDBDatabase).",
      "metadata": {}
    },
    {
      "cell_type": "code",
      "source": "function openStorage(callback) {\n\n    var request = indexedDB.open(\"JupyterLite Storage\");\n\n    request.onerror = (event) => {\n        console.log(\"Error.\");\n    };\n\n    request.onsuccess = (event) => {\n        var db = request.result;   \n        if (callback) callback(db);\n    };\n}\n\nopenStorage(function(db){\n    console.log(JSON.stringify(db.objectStoreNames));\n});\n",
      "metadata": {
        "trusted": true
      },
      "execution_count": null,
      "outputs": []
    },
    {
      "cell_type": "code",
      "source": "function dumpKeys(db) {\n    const objectStore = db.transaction('files').objectStore('files');\n    objectStore.openCursor().onsuccess = (event) => {\n        const cursor = event.target.result;\n        if (!cursor) return;\n        console.log(Object.keys(cursor.value));\n        cursor.continue();\n    };\n};\n\nopenStorage(dumpKeys);",
      "metadata": {
        "trusted": true
      },
      "execution_count": null,
      "outputs": []
    },
    {
      "cell_type": "code",
      "source": "function listPaths(db) {\n    const objectStore = db.transaction('files').objectStore('files');\n    objectStore.openCursor().onsuccess = (event) => {\n        const cursor = event.target.result;\n        if (!cursor) return;\n        console.log(cursor.value.path);\n        cursor.continue();\n    };\n};\n\nopenStorage(listPaths);",
      "metadata": {
        "trusted": true
      },
      "execution_count": null,
      "outputs": []
    },
    {
      "cell_type": "code",
      "source": "",
      "metadata": {},
      "execution_count": null,
      "outputs": []
    },
    {
      "cell_type": "code",
      "source": "",
      "metadata": {},
      "execution_count": null,
      "outputs": []
    }
  ]
}