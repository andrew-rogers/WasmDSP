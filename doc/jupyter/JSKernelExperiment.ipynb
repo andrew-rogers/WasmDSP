{
  "metadata": {
    "language_info": {
      "codemirror_mode": {
        "name": "javascript"
      },
      "file_extension": ".js",
      "mimetype": "text/javascript",
      "name": "javascript",
      "nbconvert_exporter": "javascript",
      "pygments_lexer": "javascript",
      "version": "es2017"
    },
    "kernelspec": {
      "name": "javascript",
      "display_name": "JavaScript (Web Worker)",
      "language": "javascript"
    }
  },
  "nbformat_minor": 4,
  "nbformat": 4,
  "cells": [
    {
      "cell_type": "markdown",
      "source": "Jupyter JavaScript Kernel Experiments\n=====================================\n\nAs user code is executed in a WebWorker, **postMessage()** will be called to return any exexcution outputs that need to be displayed in the front-end. The **postMessage()** function can be redefined to allow the messages to be logged.",
      "metadata": {}
    },
    {
      "cell_type": "code",
      "source": "var message_log = \"\";\nvar pm = postMessage; // Keep reference to original postMessage() function.\nvar start_time  = Date.now();\n\nfunction getTime() {\n    return Date.now() - start_time;\n}\n\n// Redefine the postMessage() function and log the message objects.\npostMessage = function(obj) {\n    message_log += getTime() + \": \" + JSON.stringify(obj) + \"\\n\";\n    pm(obj);\n}\n\ngetTime();",
      "metadata": {
        "trusted": true
      },
      "execution_count": 1,
      "outputs": [
        {
          "execution_count": 1,
          "output_type": "execute_result",
          "data": {
            "text/plain": 0
          },
          "metadata": {}
        }
      ]
    },
    {
      "cell_type": "markdown",
      "source": "Dumping the logged messages shows two types of message being sent to the front-end:\n* [execute_result](https://jupyter-client.readthedocs.io/en/stable/messaging.html#id6)\n* RAW",
      "metadata": {}
    },
    {
      "cell_type": "code",
      "source": "function dumpLog() {\n    console.log(message_log);\n    message_log=\"\";\n}\n\ndumpLog();",
      "metadata": {
        "trusted": true
      },
      "execution_count": 2,
      "outputs": [
        {
          "name": "stdout",
          "text": "0: {\"bundle\":{\"data\":{\"text/plain\":0},\"metadata\":{},\"execution_count\":1},\"type\":\"execute_result\"}\n0: {\"type\":\"RAW\",\"value\":{\"status\":\"ok\",\"user_expressions\":{}},\"id\":\"1d6a1d4f3d9dd-116a49065d4227-987de72767df3-18068701d63801\"}\n\n",
          "output_type": "stream"
        },
        {
          "execution_count": 2,
          "output_type": "execute_result",
          "data": {},
          "metadata": {}
        }
      ]
    },
    {
      "cell_type": "markdown",
      "source": "Delaying Notebook Execution\n---------------------------\n\nIf the **execute_result** and **RAW** messages are not send to the front-end it will stall. The code below queues the messages if the **pause()** function is called and posts them after a specifed time. The **setTimeout()** function makes an asyncronous callback which is used to send the queued messages.",
      "metadata": {}
    },
    {
      "cell_type": "code",
      "source": "var messages = [];\nvar pause_cnt = 0;\n\npause = function(ms) {\n    pause_cnt += 1;\n    setTimeout(function() {\n        resume();\n    }, ms);\n};\n\npostMessage = function(obj) {\n    message_log += getTime() + \": \" + JSON.stringify(obj) + \"\\n\";\n    if (pause_cnt) messages.push(obj);\n    else pm(obj);\n};\n\nresume = function() {\n    pause_cnt -= 1;\n    if (pause_cnt <= 0) {\n        pause_cnt = 0;\n        while (messages.length > 0) {\n            var obj = messages.shift();\n            pm(obj);\n        }\n    }\n};\n\npause(2000);",
      "metadata": {
        "trusted": true
      },
      "execution_count": 3,
      "outputs": [
        {
          "execution_count": 3,
          "output_type": "execute_result",
          "data": {},
          "metadata": {}
        }
      ]
    },
    {
      "cell_type": "code",
      "source": "pause(4000);",
      "metadata": {
        "trusted": true
      },
      "execution_count": 4,
      "outputs": [
        {
          "execution_count": 4,
          "output_type": "execute_result",
          "data": {},
          "metadata": {}
        }
      ]
    },
    {
      "cell_type": "code",
      "source": "pause(2000);",
      "metadata": {
        "trusted": true
      },
      "execution_count": 5,
      "outputs": [
        {
          "execution_count": 5,
          "output_type": "execute_result",
          "data": {},
          "metadata": {}
        }
      ]
    },
    {
      "cell_type": "markdown",
      "source": "Note that **dumpLog()** will not dump the **execute_result** and **RAW** from this execution as their respective **postMessage()** calls are not made until after the cell code is executed.",
      "metadata": {}
    },
    {
      "cell_type": "code",
      "source": "dumpLog();",
      "metadata": {
        "trusted": true
      },
      "execution_count": 6,
      "outputs": [
        {
          "name": "stdout",
          "text": "7: {\"bundle\":{\"data\":{},\"metadata\":{},\"execution_count\":2},\"type\":\"execute_result\"}\n7: {\"type\":\"RAW\",\"value\":{\"status\":\"ok\",\"user_expressions\":{}},\"id\":\"7eedeecdf1eb1-a3968aba27d65-431fdb295ee9-67d3b180e92a9\"}\n27: {\"bundle\":{\"data\":{},\"metadata\":{},\"execution_count\":3},\"type\":\"execute_result\"}\n27: {\"type\":\"RAW\",\"value\":{\"status\":\"ok\",\"user_expressions\":{}},\"id\":\"1c51c1f4dfcc51-120817d049c059-8f326cd55ef81-c9a616b8dbd3b\"}\n2039: {\"bundle\":{\"data\":{},\"metadata\":{},\"execution_count\":4},\"type\":\"execute_result\"}\n2039: {\"type\":\"RAW\",\"value\":{\"status\":\"ok\",\"user_expressions\":{}},\"id\":\"a4dd44f76327d-23b8009d86c87-adc604554606f-156cc93b165a0b\"}\n6046: {\"bundle\":{\"data\":{},\"metadata\":{},\"execution_count\":5},\"type\":\"execute_result\"}\n6046: {\"type\":\"RAW\",\"value\":{\"status\":\"ok\",\"user_expressions\":{}},\"id\":\"bae02683d4995-12951998afbb4f-1252f756d3c07d-9662f93438273\"}\n\n",
          "output_type": "stream"
        },
        {
          "execution_count": 6,
          "output_type": "execute_result",
          "data": {},
          "metadata": {}
        }
      ]
    },
    {
      "cell_type": "code",
      "source": "dumpLog();",
      "metadata": {
        "trusted": true
      },
      "execution_count": 7,
      "outputs": [
        {
          "name": "stdout",
          "text": "8055: {\"bundle\":{\"data\":{},\"metadata\":{},\"execution_count\":6},\"type\":\"execute_result\"}\n8056: {\"type\":\"RAW\",\"value\":{\"status\":\"ok\",\"user_expressions\":{}},\"id\":\"1a2456c221073d-c9bdd3fb35b91-1010cd0d5e9b57-b91bb6e354a39\"}\n\n",
          "output_type": "stream"
        },
        {
          "execution_count": 7,
          "output_type": "execute_result",
          "data": {},
          "metadata": {}
        }
      ]
    },
    {
      "cell_type": "code",
      "source": "",
      "metadata": {},
      "execution_count": null,
      "outputs": []
    }
  ]
}